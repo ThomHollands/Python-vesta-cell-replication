{
 "cells": [
  {
   "cell_type": "markdown",
   "metadata": {},
   "source": [
    "# Replicating the unit cell of a Silicene Lattice"
   ]
  },
  {
   "cell_type": "code",
   "execution_count": 90,
   "metadata": {
    "collapsed": true
   },
   "outputs": [],
   "source": [
    "import numpy as np"
   ]
  },
  {
   "cell_type": "markdown",
   "metadata": {},
   "source": [
    "Below, I open our vesta file in reading and writing mode.\n",
    "Then, I extract the cellparameters (CELLP) from the file, and save them as a numpy array.\n",
    "This will be used later to iterate over the structure. CELLPL is a numpy array of just the cell parameters, a,b &c."
   ]
  },
  {
   "cell_type": "code",
   "execution_count": 91,
   "metadata": {
    "collapsed": false
   },
   "outputs": [
    {
     "name": "stdout",
     "output_type": "stream",
     "text": [
      "[ 60.426811   6.34317   30.        90.        90.        90.      ]\n",
      "[ 60.426811   6.34317   30.      ]\n"
     ]
    }
   ],
   "source": [
    "f = open(\"POSCAR_silicene_ZrB2_Tedit.vesta\", \"r+\") #opens the file in reading and writing mode\n",
    "for line in f:\n",
    "    if \"CELLP\" in line:\n",
    "        for line in f:\n",
    "            if \"60.426811\" in line:\n",
    "                CELLP = np.fromstring(line, dtype=float, count=-1, sep=\"   \") #creates CELLP as a 1D numpy array\n",
    "                break\n",
    "            else:\n",
    "                break\n",
    "print(CELLP)\n",
    "CELLPL = CELLP[0:3]\n",
    "print(CELLPL)"
   ]
  },
  {
   "cell_type": "markdown",
   "metadata": {},
   "source": [
    "The cell below reads the \"STRUC\" section line by line, saving each line as a line in the list STRUC.\n",
    "The line below it tests this, by printing STRUC[0]. Later, these lines will be converted into numpy arrays, which can be operated on."
   ]
  },
  {
   "cell_type": "code",
   "execution_count": 92,
   "metadata": {
    "collapsed": false
   },
   "outputs": [],
   "source": [
    "f = open(\"POSCAR_silicene_ZrB2_Tedit.vesta\", \"r+\")\n",
    "STRUC = []\n",
    "for line in f:\n",
    "    if \"STRUC\" in line:\n",
    "        STRUC.append(f.readline())\n",
    "        f.readline()\n",
    "        STRUC.append(f.readline())\n",
    "f.close()"
   ]
  },
  {
   "cell_type": "code",
   "execution_count": 93,
   "metadata": {
    "collapsed": false
   },
   "outputs": [
    {
     "data": {
      "text/plain": [
       "'  1 Zr        Zr1  1.0000   0.000000   0.000000   0.066667    1a       1\\n'"
      ]
     },
     "execution_count": 93,
     "metadata": {},
     "output_type": "execute_result"
    }
   ],
   "source": [
    "STRUC[0]"
   ]
  },
  {
   "cell_type": "markdown",
   "metadata": {},
   "source": [
    "The code below splits the element STRUC[0], which is one big  string, by its whitespace. Later, we will remove the whitespace."
   ]
  },
  {
   "cell_type": "code",
   "execution_count": 94,
   "metadata": {
    "collapsed": false
   },
   "outputs": [
    {
     "data": {
      "text/plain": [
       "['',\n",
       " '',\n",
       " '1',\n",
       " 'Zr',\n",
       " '',\n",
       " '',\n",
       " '',\n",
       " '',\n",
       " '',\n",
       " '',\n",
       " '',\n",
       " 'Zr1',\n",
       " '',\n",
       " '1.0000',\n",
       " '',\n",
       " '',\n",
       " '0.000000',\n",
       " '',\n",
       " '',\n",
       " '0.000000',\n",
       " '',\n",
       " '',\n",
       " '0.066667',\n",
       " '',\n",
       " '',\n",
       " '',\n",
       " '1a',\n",
       " '',\n",
       " '',\n",
       " '',\n",
       " '',\n",
       " '',\n",
       " '',\n",
       " '1\\n']"
      ]
     },
     "execution_count": 94,
     "metadata": {},
     "output_type": "execute_result"
    }
   ],
   "source": [
    "STRUC[0] = STRUC[0].split(\" \")\n",
    "STRUC[0]"
   ]
  },
  {
   "cell_type": "markdown",
   "metadata": {},
   "source": [
    "The code below removes the whitespace in STRUC[0]. It has to be iterated several times, because for some reason the 2nd-4th lines don't remove all of the whitespace first time."
   ]
  },
  {
   "cell_type": "code",
   "execution_count": 95,
   "metadata": {
    "collapsed": false
   },
   "outputs": [
    {
     "name": "stdout",
     "output_type": "stream",
     "text": [
      "['1', 'Zr', 'Zr1', '1.0000', '0.000000', '0.000000', '0.066667', '1a', '1\\n']\n"
     ]
    }
   ],
   "source": [
    "for number in range(len(STRUC[0])):\n",
    "    for item in STRUC[0]:\n",
    "        if item == '':\n",
    "            STRUC[0].remove(item)\n",
    "print(STRUC[0])"
   ]
  },
  {
   "cell_type": "markdown",
   "metadata": {
    "collapsed": false
   },
   "source": [
    "Below, we convert all of the numbers in STRUC[0] into floats - the strings like \"Zr\" remain as strings. "
   ]
  },
  {
   "cell_type": "code",
   "execution_count": 96,
   "metadata": {
    "collapsed": false
   },
   "outputs": [
    {
     "name": "stdout",
     "output_type": "stream",
     "text": [
      "[1.0, 'Zr', 'Zr1', 1.0, 0.0, 0.0, 0.066667, '1a', 1.0]\n"
     ]
    }
   ],
   "source": [
    "alphabet = ( \"B\", \"Zr\", \"Si\", \"1a\") #can be generalised further\n",
    "temp_list = []\n",
    "for item in STRUC[0]:\n",
    "    if not any(s in item for s in alphabet):\n",
    "        temp_list.append(float(item))\n",
    "    else:\n",
    "        temp_list.append(item)\n",
    "STRUC[0] = temp_list\n",
    "del temp_list\n",
    "print(STRUC[0])"
   ]
  },
  {
   "cell_type": "markdown",
   "metadata": {},
   "source": [
    "The code below converts elements 4, 5 & 6 in the list STRUC[0] into a numpy array."
   ]
  },
  {
   "cell_type": "code",
   "execution_count": 97,
   "metadata": {
    "collapsed": false
   },
   "outputs": [
    {
     "name": "stdout",
     "output_type": "stream",
     "text": [
      "[1.0, 'Zr', 'Zr1', 1.0, array([ 0.      ,  0.      ,  0.066667]), '1a', 1.0]\n"
     ]
    }
   ],
   "source": [
    "\n",
    "STRUC[0].insert(4, np.array(STRUC[0][4:7]))\n",
    "del STRUC[0][5:8]\n",
    "print(STRUC[0])"
   ]
  },
  {
   "cell_type": "markdown",
   "metadata": {
    "collapsed": false
   },
   "source": [
    "Below I will add our CELLP to STRUC[0][4] and assess the result. CELLPL is a 3 element numpy array with only the unit cell length parameters. STRUC[0][4] is a numpy array of elements 4, 5 & 6 in STRUC[0]. "
   ]
  },
  {
   "cell_type": "code",
   "execution_count": 98,
   "metadata": {
    "collapsed": false
   },
   "outputs": [
    {
     "name": "stdout",
     "output_type": "stream",
     "text": [
      "[1.0, 'Zr', 'Zr1', 1.0, array([ 0.      ,  0.      ,  0.066667]), '1a', 1.0]\n",
      "[1.0, 'Zr', 'Zr1', 1.0, array([ 60.426811,   6.34317 ,  30.066667]), '1a', 1.0]\n",
      "[1.0, 'Zr', 'Zr1', 1.0, array([ 0.      ,  0.      ,  0.066667]), '1a', 1.0]\n"
     ]
    }
   ],
   "source": [
    "test = STRUC[0][:]\n",
    "print(test)\n",
    "test[4] = test[4] + CELLPL\n",
    "print(test)\n",
    "print(STRUC[0])"
   ]
  },
  {
   "cell_type": "markdown",
   "metadata": {
    "collapsed": false
   },
   "source": [
    "Now, \"test\" should be our modified STRUC[0], moved along each axis by 1 cell parameter. Our next step will be to write a new file with the data from test, and check if it can be read in vesta."
   ]
  },
  {
   "cell_type": "code",
   "execution_count": 100,
   "metadata": {
    "collapsed": false
   },
   "outputs": [
    {
     "name": "stdout",
     "output_type": "stream",
     "text": [
      "[1.0, 'Zr', 'Zr1', 1.0, 60.426811, 6.34317, 30.066667, '1a', 1.0]\n"
     ]
    }
   ],
   "source": [
    "test_1 = test[0:4]\n",
    "test_2 = test[5:]\n",
    "test_3 = test[4].tolist()\n",
    "test = test_1 + test_3 + test_2\n",
    "print(test)"
   ]
  },
  {
   "cell_type": "code",
   "execution_count": 101,
   "metadata": {
    "collapsed": true
   },
   "outputs": [],
   "source": [
    "f = open(\"testfile.txt\", \"w\")\n",
    "f.write(\"#VESTA_FORMAT_VERSION 3.3.0\")\n",
    "f.write(\"CRYSTAL\")\n",
    "f.close()"
   ]
  },
  {
   "cell_type": "code",
   "execution_count": null,
   "metadata": {
    "collapsed": false
   },
   "outputs": [],
   "source": []
  },
  {
   "cell_type": "code",
   "execution_count": null,
   "metadata": {
    "collapsed": false
   },
   "outputs": [],
   "source": [
    "a=1"
   ]
  },
  {
   "cell_type": "code",
   "execution_count": null,
   "metadata": {
    "collapsed": false
   },
   "outputs": [],
   "source": []
  },
  {
   "cell_type": "code",
   "execution_count": null,
   "metadata": {
    "collapsed": true
   },
   "outputs": [],
   "source": [
    "f.close()"
   ]
  },
  {
   "cell_type": "code",
   "execution_count": null,
   "metadata": {
    "collapsed": true
   },
   "outputs": [],
   "source": [
    "test1 = np.array([])"
   ]
  },
  {
   "cell_type": "code",
   "execution_count": null,
   "metadata": {
    "collapsed": true
   },
   "outputs": [],
   "source": []
  },
  {
   "cell_type": "code",
   "execution_count": null,
   "metadata": {
    "collapsed": true
   },
   "outputs": [],
   "source": []
  },
  {
   "cell_type": "code",
   "execution_count": null,
   "metadata": {
    "collapsed": true
   },
   "outputs": [],
   "source": []
  },
  {
   "cell_type": "code",
   "execution_count": null,
   "metadata": {
    "collapsed": false
   },
   "outputs": [],
   "source": [
    "a"
   ]
  },
  {
   "cell_type": "code",
   "execution_count": null,
   "metadata": {
    "collapsed": true
   },
   "outputs": [],
   "source": []
  }
 ],
 "metadata": {
  "anaconda-cloud": {},
  "kernelspec": {
   "display_name": "Python [Root]",
   "language": "python",
   "name": "Python [Root]"
  },
  "language_info": {
   "codemirror_mode": {
    "name": "ipython",
    "version": 3
   },
   "file_extension": ".py",
   "mimetype": "text/x-python",
   "name": "python",
   "nbconvert_exporter": "python",
   "pygments_lexer": "ipython3",
   "version": "3.5.2"
  }
 },
 "nbformat": 4,
 "nbformat_minor": 0
}
