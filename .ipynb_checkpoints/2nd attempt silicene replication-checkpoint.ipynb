{
 "cells": [
  {
   "cell_type": "markdown",
   "metadata": {},
   "source": [
    "# Replicating the unit cell of a Silicene Lattice"
   ]
  },
  {
   "cell_type": "markdown",
   "metadata": {},
   "source": [
    "### Hey great work this is awesome\n",
    "Lets work on making a our own file"
   ]
  },
  {
   "cell_type": "code",
   "execution_count": 54,
   "metadata": {
    "collapsed": true
   },
   "outputs": [],
   "source": [
    "import numpy as np"
   ]
  },
  {
   "cell_type": "markdown",
   "metadata": {},
   "source": [
    "Below, I open our vesta file in reading and writing mode.\n",
    "Then, I extract the cellparameters (CELLP) from the file, and save them as a numpy array.\n",
    "This will be used later to iterate over the structure. CELLPL is a numpy array of just the cell parameters, a,b &c."
   ]
  },
  {
   "cell_type": "code",
   "execution_count": 55,
   "metadata": {
    "collapsed": false
   },
   "outputs": [
    {
     "name": "stdout",
     "output_type": "stream",
     "text": [
      "[ 60.426811   6.34317   30.        90.        90.        90.      ]\n",
      "[ 60.426811   6.34317   30.      ]\n"
     ]
    }
   ],
   "source": [
    "f = open(\"POSCAR_silicene_ZrB2_Tedit.vesta\", \"r+\") #opens the file in reading and writing mode\n",
    "for line in f:\n",
    "    if \"CELLP\" in line:\n",
    "        for line in f:\n",
    "            if \"60.426811\" in line:\n",
    "                CELLP = np.fromstring(line, dtype=float, count=-1, sep=\"   \") #creates CELLP as a 1D numpy array\n",
    "                break\n",
    "            else:\n",
    "                break\n",
    "print(CELLP)\n",
    "CELLPL = CELLP[0:3]\n",
    "print(CELLPL)"
   ]
  },
  {
   "cell_type": "markdown",
   "metadata": {},
   "source": [
    "The cell below reads the \"STRUC\" section line by line, saving each line as a line in the list STRUC.\n",
    "The line below it tests this, by printing STRUC[0]. Later, these lines will be converted into numpy arrays, which can be operated on."
   ]
  },
  {
   "cell_type": "code",
   "execution_count": 56,
   "metadata": {
    "collapsed": false
   },
   "outputs": [],
   "source": [
    "f = open(\"POSCAR_silicene_ZrB2_Tedit.vesta\", \"r+\")\n",
    "STRUC = []\n",
    "for line in f:\n",
    "    if \"STRUC\" in line:\n",
    "        STRUC.append(f.readline())\n",
    "        f.readline()\n",
    "        STRUC.append(f.readline())\n",
    "f.close()"
   ]
  },
  {
   "cell_type": "code",
   "execution_count": 57,
   "metadata": {
    "collapsed": false
   },
   "outputs": [
    {
     "data": {
      "text/plain": [
       "'  1 Zr        Zr1  1.0000   0.000000   0.000000   0.066667    1a       1\\n'"
      ]
     },
     "execution_count": 57,
     "metadata": {},
     "output_type": "execute_result"
    }
   ],
   "source": [
    "STRUC[0]"
   ]
  },
  {
   "cell_type": "markdown",
   "metadata": {},
   "source": [
    "The code below splits the element STRUC[0], which is one big  string, by its whitespace. Later, we will remove the whitespace."
   ]
  },
  {
   "cell_type": "code",
   "execution_count": 58,
   "metadata": {
    "collapsed": false
   },
   "outputs": [
    {
     "data": {
      "text/plain": [
       "['',\n",
       " '',\n",
       " '1',\n",
       " 'Zr',\n",
       " '',\n",
       " '',\n",
       " '',\n",
       " '',\n",
       " '',\n",
       " '',\n",
       " '',\n",
       " 'Zr1',\n",
       " '',\n",
       " '1.0000',\n",
       " '',\n",
       " '',\n",
       " '0.000000',\n",
       " '',\n",
       " '',\n",
       " '0.000000',\n",
       " '',\n",
       " '',\n",
       " '0.066667',\n",
       " '',\n",
       " '',\n",
       " '',\n",
       " '1a',\n",
       " '',\n",
       " '',\n",
       " '',\n",
       " '',\n",
       " '',\n",
       " '',\n",
       " '1\\n']"
      ]
     },
     "execution_count": 58,
     "metadata": {},
     "output_type": "execute_result"
    }
   ],
   "source": [
    "STRUC[0] = STRUC[0].split(\" \")\n",
    "STRUC[0]"
   ]
  },
  {
   "cell_type": "markdown",
   "metadata": {},
   "source": [
    "The code below removes the whitespace in STRUC[0]. It has to be iterated several times, because for some reason the 2nd-4th lines don't remove all of the whitespace first time."
   ]
  },
  {
   "cell_type": "code",
   "execution_count": 59,
   "metadata": {
    "collapsed": false
   },
   "outputs": [
    {
     "name": "stdout",
     "output_type": "stream",
     "text": [
      "['1', 'Zr', 'Zr1', '1.0000', '0.000000', '0.000000', '0.066667', '1a', '1\\n']\n"
     ]
    }
   ],
   "source": [
    "for number in range(len(STRUC[0])):\n",
    "    for item in STRUC[0]:\n",
    "        if item == '':\n",
    "            STRUC[0].remove(item)\n",
    "print(STRUC[0])"
   ]
  },
  {
   "cell_type": "markdown",
   "metadata": {
    "collapsed": false
   },
   "source": [
    "Below, we convert all of the numbers in STRUC[0] into floats - the strings like \"Zr\" remain as strings. "
   ]
  },
  {
   "cell_type": "code",
   "execution_count": 60,
   "metadata": {
    "collapsed": false
   },
   "outputs": [
    {
     "name": "stdout",
     "output_type": "stream",
     "text": [
      "[1.0, 'Zr', 'Zr1', 1.0, 0.0, 0.0, 0.066667, '1a', 1.0]\n"
     ]
    }
   ],
   "source": [
    "alphabet = ( \"B\", \"Zr\", \"Si\", \"1a\") #can be generalised further\n",
    "temp_list = []\n",
    "for item in STRUC[0]:\n",
    "    if not any(s in item for s in alphabet):\n",
    "        temp_list.append(float(item))\n",
    "    else:\n",
    "        temp_list.append(item)\n",
    "STRUC[0] = temp_list\n",
    "del temp_list\n",
    "print(STRUC[0])"
   ]
  },
  {
   "cell_type": "markdown",
   "metadata": {},
   "source": [
    "The code below converts elements 4, 5 & 6 in the list STRUC[0] into a numpy array."
   ]
  },
  {
   "cell_type": "code",
   "execution_count": 61,
   "metadata": {
    "collapsed": false
   },
   "outputs": [
    {
     "name": "stdout",
     "output_type": "stream",
     "text": [
      "[1.0, 'Zr', 'Zr1', 1.0, array([ 0.      ,  0.      ,  0.066667]), '1a', 1.0]\n"
     ]
    }
   ],
   "source": [
    "\n",
    "STRUC[0].insert(4, np.array(STRUC[0][4:7]))\n",
    "del STRUC[0][5:8]\n",
    "print(STRUC[0])"
   ]
  },
  {
   "cell_type": "markdown",
   "metadata": {
    "collapsed": false
   },
   "source": [
    "Below I will add our CELLP to STRUC[0] and assess the result. The elements of STRUC[0] which are the unit cell lengths are elements 4, 5 & 6. The elements of CELLP which are the cell parameters are 0, 1 & 2."
   ]
  },
  {
   "cell_type": "code",
   "execution_count": 62,
   "metadata": {
    "collapsed": false
   },
   "outputs": [
    {
     "data": {
      "text/plain": [
       "array([ 60.426811,   6.34317 ,  30.066667])"
      ]
     },
     "execution_count": 62,
     "metadata": {},
     "output_type": "execute_result"
    }
   ],
   "source": [
    "STRUC[0][4]+CELLPL"
   ]
  },
  {
   "cell_type": "code",
   "execution_count": null,
   "metadata": {
    "collapsed": false
   },
   "outputs": [],
   "source": [
    "test1[0]"
   ]
  },
  {
   "cell_type": "code",
   "execution_count": null,
   "metadata": {
    "collapsed": false
   },
   "outputs": [],
   "source": [
    "print(test1)"
   ]
  },
  {
   "cell_type": "markdown",
   "metadata": {},
   "source": [
    "Printed all of the lines under the subheading \"STRUC\" which contain one of the atom names - the sublines are not printed"
   ]
  },
  {
   "cell_type": "code",
   "execution_count": null,
   "metadata": {
    "collapsed": false
   },
   "outputs": [],
   "source": [
    "Atoms = (\"B\", \"Zr\", \"Si\")\n",
    "for line in f:\n",
    "    if \"STRUC\" in line:\n",
    "        for line in f: #chooses lines after \"STRUC\"\n",
    "            if any(s in line for s in Atoms): #only chooses lines with the atoms specified\n",
    "                if \"Si64\" in line: #breaks at the end of the section\n",
    "                    copy(line)\n",
    "                    break\n",
    "                else:\n",
    "                    copy(line)\n",
    "                    "
   ]
  },
  {
   "cell_type": "code",
   "execution_count": null,
   "metadata": {
    "collapsed": false
   },
   "outputs": [],
   "source": [
    "a=1"
   ]
  },
  {
   "cell_type": "code",
   "execution_count": null,
   "metadata": {
    "collapsed": false
   },
   "outputs": [],
   "source": [
    "open\n",
    "cell_parameters = []\n",
    "for line in f:\n",
    "    if \"CELLP\" in line:\n",
    "        for line in f:\n",
    "            if \"60.426811\" in line:\n",
    "                cell_parameters.append([line])\n",
    "                break\n",
    "            else:\n",
    "                break\n",
    "        \n",
    "close()\n",
    "print(cell_parameters)"
   ]
  },
  {
   "cell_type": "code",
   "execution_count": null,
   "metadata": {
    "collapsed": true
   },
   "outputs": [],
   "source": [
    "f.close()"
   ]
  },
  {
   "cell_type": "code",
   "execution_count": null,
   "metadata": {
    "collapsed": true
   },
   "outputs": [],
   "source": [
    "test1 = np.array([])"
   ]
  },
  {
   "cell_type": "code",
   "execution_count": null,
   "metadata": {
    "collapsed": true
   },
   "outputs": [],
   "source": [
    "for line in f:\n",
    "    if \"STRUC\" in line:\n",
    "        for line in f:\n",
    "            if \"0 0 0 0 0 0 0\" in line:\n",
    "                break\n",
    "            else:"
   ]
  },
  {
   "cell_type": "code",
   "execution_count": null,
   "metadata": {
    "collapsed": true
   },
   "outputs": [],
   "source": []
  },
  {
   "cell_type": "code",
   "execution_count": null,
   "metadata": {
    "collapsed": true
   },
   "outputs": [],
   "source": []
  },
  {
   "cell_type": "code",
   "execution_count": null,
   "metadata": {
    "collapsed": false
   },
   "outputs": [],
   "source": [
    "a"
   ]
  },
  {
   "cell_type": "code",
   "execution_count": null,
   "metadata": {
    "collapsed": true
   },
   "outputs": [],
   "source": []
  }
 ],
 "metadata": {
  "anaconda-cloud": {},
  "kernelspec": {
   "display_name": "Python [Root]",
   "language": "python",
   "name": "Python [Root]"
  },
  "language_info": {
   "codemirror_mode": {
    "name": "ipython",
    "version": 3
   },
   "file_extension": ".py",
   "mimetype": "text/x-python",
   "name": "python",
   "nbconvert_exporter": "python",
   "pygments_lexer": "ipython3",
   "version": "3.5.2"
  }
 },
 "nbformat": 4,
 "nbformat_minor": 0
}
