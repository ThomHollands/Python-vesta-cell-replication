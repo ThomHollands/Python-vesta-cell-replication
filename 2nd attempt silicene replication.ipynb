{
 "cells": [
  {
   "cell_type": "markdown",
   "metadata": {},
   "source": [
    "# Replicating the unit cell of a Silicene Lattice"
   ]
  },
  {
   "cell_type": "code",
   "execution_count": 1,
   "metadata": {
    "collapsed": true
   },
   "outputs": [],
   "source": [
    "import numpy as np\n",
    "import inspect\n",
    "import os"
   ]
  },
  {
   "cell_type": "markdown",
   "metadata": {},
   "source": [
    "### General File Path Definition"
   ]
  },
  {
   "cell_type": "markdown",
   "metadata": {},
   "source": [
    "Defines the file location to the directory holding the iPython notebook."
   ]
  },
  {
   "cell_type": "code",
   "execution_count": 2,
   "metadata": {
    "collapsed": false
   },
   "outputs": [],
   "source": [
    "file_dir = os.path.dirname(os.path.abspath(inspect.getfile(inspect.currentframe())))\n",
    "file_name = 'POSCAR_ZrB2_silicene_11x2_v2.vesta'\n",
    "file_path = os.path.join(file_dir, file_name)"
   ]
  },
  {
   "cell_type": "markdown",
   "metadata": {},
   "source": [
    "### File Read Test"
   ]
  },
  {
   "cell_type": "code",
   "execution_count": 3,
   "metadata": {
    "collapsed": false
   },
   "outputs": [
    {
     "name": "stdout",
     "output_type": "stream",
     "text": [
      "#VESTA_FORMAT_VERSION 3.1.9\n",
      "\n"
     ]
    }
   ],
   "source": [
    "file = open(file_path, 'r')\n",
    "print(file.readline())\n",
    "file.close()"
   ]
  },
  {
   "cell_type": "markdown",
   "metadata": {},
   "source": [
    "### Read File"
   ]
  },
  {
   "cell_type": "markdown",
   "metadata": {},
   "source": [
    "Reads in file as a single string."
   ]
  },
  {
   "cell_type": "code",
   "execution_count": 15,
   "metadata": {
    "collapsed": true
   },
   "outputs": [],
   "source": [
    "file = open(file_path, 'r')\n",
    "file_data = file.read()\n",
    "file.close()"
   ]
  },
  {
   "cell_type": "markdown",
   "metadata": {},
   "source": [
    "Split string by newline '\\n' commands."
   ]
  },
  {
   "cell_type": "code",
   "execution_count": 18,
   "metadata": {
    "collapsed": false
   },
   "outputs": [],
   "source": [
    "file_data = file_data.split('\\n')"
   ]
  },
  {
   "cell_type": "markdown",
   "metadata": {},
   "source": [
    "Find the index numbers of the CELLP and STRUC keywords."
   ]
  },
  {
   "cell_type": "code",
   "execution_count": 20,
   "metadata": {
    "collapsed": false
   },
   "outputs": [],
   "source": [
    "cellp_indx = file_data.index('CELLP')\n",
    "struc_indx = file_data.index('STRUC')"
   ]
  },
  {
   "cell_type": "markdown",
   "metadata": {},
   "source": [
    "### Get CELLP data"
   ]
  },
  {
   "cell_type": "code",
   "execution_count": 42,
   "metadata": {
    "collapsed": true
   },
   "outputs": [],
   "source": [
    "cellp_data = []\n",
    "for i in range(cellp_indx, struc_indx):\n",
    "    cellp_data.append(file_data[i])\n",
    "for i in range(1,len(cellp_data)):\n",
    "    cellp_data[i] = np.fromstring(cellp_data[i], dtype=float, sep='  ')"
   ]
  },
  {
   "cell_type": "code",
   "execution_count": 43,
   "metadata": {
    "collapsed": false
   },
   "outputs": [
    {
     "data": {
      "text/plain": [
       "['CELLP',\n",
       " array([ 60.426811,   6.34317 ,  26.60656 ,  90.      ,  90.      ,  90.      ]),\n",
       " array([ 0.,  0.,  0.,  0.,  0.,  0.])]"
      ]
     },
     "execution_count": 43,
     "metadata": {},
     "output_type": "execute_result"
    }
   ],
   "source": [
    "cellp_data"
   ]
  },
  {
   "cell_type": "markdown",
   "metadata": {},
   "source": [
    "### STRUC Data"
   ]
  },
  {
   "cell_type": "markdown",
   "metadata": {},
   "source": [
    "Defines index of next keyword after STRUC."
   ]
  },
  {
   "cell_type": "code",
   "execution_count": 45,
   "metadata": {
    "collapsed": true
   },
   "outputs": [],
   "source": [
    "theri_indx = file_data.index('THERI 0')"
   ]
  },
  {
   "cell_type": "markdown",
   "metadata": {},
   "source": [
    "Separates out the structure data from file_data."
   ]
  },
  {
   "cell_type": "code",
   "execution_count": 76,
   "metadata": {
    "collapsed": true
   },
   "outputs": [],
   "source": [
    "struc_data = []\n",
    "for i in range(struc_indx, theri_indx):\n",
    "    struc_data.append(file_data[i])"
   ]
  },
  {
   "cell_type": "markdown",
   "metadata": {},
   "source": [
    "Line wise splits single string by white space and then removes elements that are empty."
   ]
  },
  {
   "cell_type": "code",
   "execution_count": 77,
   "metadata": {
    "collapsed": false
   },
   "outputs": [],
   "source": [
    "for i in range(1, len(struc_data)):\n",
    "    temp_line = np.array(struc_data[i].split(' '))\n",
    "    temp_line_1 = np.array([])\n",
    "    for j in range(0, len(temp_line)):\n",
    "        if not temp_line[j] == '':\n",
    "            temp_line_1 = np.append(temp_line_1, temp_line[j])\n",
    "    struc_data[i] = temp_line_1\n",
    "del temp_line, temp_line_1    "
   ]
  },
  {
   "cell_type": "markdown",
   "metadata": {},
   "source": [
    "A function to check if a string can be converted to a float."
   ]
  },
  {
   "cell_type": "code",
   "execution_count": 104,
   "metadata": {
    "collapsed": true
   },
   "outputs": [],
   "source": [
    "def str2float_check(string):\n",
    "    try:\n",
    "        float(string)\n",
    "        return True\n",
    "    except ValueError:\n",
    "        return False"
   ]
  },
  {
   "cell_type": "markdown",
   "metadata": {},
   "source": [
    "iterates over the structure data linewise, and then element wise to convert strings that contain a number to a float."
   ]
  },
  {
   "cell_type": "code",
   "execution_count": 117,
   "metadata": {
    "collapsed": false
   },
   "outputs": [],
   "source": [
    "for i in range(1, len(struc_data)):  # iterates over lines of struc_data\n",
    "    temp_line = []  # create a temporary line\n",
    "    for j in range(len(struc_data[i])):  # iterates over elements of line 'i' in struc_data\n",
    "        if str2float_check(struc_data[i][j]):  # returns true if element can be converted to a float.\n",
    "            temp_line.append(float(struc_data[i][j]))\n",
    "        else:\n",
    "            temp_line.append(struc_data[i][j])\n",
    "    struc_data[i] = temp_line\n",
    "del temp_line"
   ]
  },
  {
   "cell_type": "markdown",
   "metadata": {},
   "source": [
    "Below, I open our vesta file in reading and writing mode.\n",
    "Then, I extract the cellparameters (CELLP) from the file, and save them as a numpy array.\n",
    "This will be used later to iterate over the structure. CELLPL is a numpy array of just the cell parameters, a,b &c."
   ]
  },
  {
   "cell_type": "code",
   "execution_count": null,
   "metadata": {
    "collapsed": false
   },
   "outputs": [],
   "source": [
    "f = open(\"POSCAR_silicene_ZrB2_Tedit.vesta\", \"r\") #opens the file in reading mode\n",
    "for line in f:\n",
    "    if \"CELLP\" in line:\n",
    "        for line in f:\n",
    "            if \"60.426811\" in line:\n",
    "                CELLP = np.fromstring(line, dtype=float, count=-1, sep=\"   \") #creates CELLP as a 1D numpy array\n",
    "                break\n",
    "            else:\n",
    "                break\n",
    "print(CELLP)\n",
    "CELLPL = CELLP[0:3]\n",
    "print(CELLPL)"
   ]
  },
  {
   "cell_type": "markdown",
   "metadata": {},
   "source": [
    "The cell below reads the \"STRUC\" section line by line, saving each line as a line in the list STRUC.\n",
    "The line below it tests this, by printing STRUC[0]. Later, these lines will be converted into numpy arrays, which can be operated on."
   ]
  },
  {
   "cell_type": "code",
   "execution_count": null,
   "metadata": {
    "collapsed": false
   },
   "outputs": [],
   "source": [
    "f = open(\"POSCAR_silicene_ZrB2_Tedit.vesta\", \"r+\")\n",
    "STRUC = []\n",
    "for line in f:\n",
    "    if \"STRUC\" in line:\n",
    "        STRUC.append(f.readline())\n",
    "        f.readline()\n",
    "        STRUC.append(f.readline())\n",
    "f.close()"
   ]
  },
  {
   "cell_type": "code",
   "execution_count": null,
   "metadata": {
    "collapsed": false
   },
   "outputs": [],
   "source": [
    "STRUC[0]"
   ]
  },
  {
   "cell_type": "markdown",
   "metadata": {},
   "source": [
    "The code below splits the element STRUC[0], which is one big  string, by its whitespace. Later, we will remove the whitespace."
   ]
  },
  {
   "cell_type": "code",
   "execution_count": null,
   "metadata": {
    "collapsed": false
   },
   "outputs": [],
   "source": [
    "STRUC[0] = STRUC[0].split(\" \")\n",
    "STRUC[0]"
   ]
  },
  {
   "cell_type": "markdown",
   "metadata": {},
   "source": [
    "The code below removes the whitespace in STRUC[0]. It has to be iterated several times, because for some reason the 2nd-4th lines don't remove all of the whitespace first time."
   ]
  },
  {
   "cell_type": "code",
   "execution_count": null,
   "metadata": {
    "collapsed": false
   },
   "outputs": [],
   "source": [
    "for number in range(len(STRUC[0])):\n",
    "    for item in STRUC[0]:\n",
    "        if item == '':\n",
    "            STRUC[0].remove(item)\n",
    "print(STRUC[0])"
   ]
  },
  {
   "cell_type": "markdown",
   "metadata": {},
   "source": [
    "***"
   ]
  },
  {
   "cell_type": "markdown",
   "metadata": {},
   "source": [
    "#### Suggested Edit\n",
    "\n",
    "Thomas I think what is occuring is that since you are removing items from STRUC[0] there is a 'confusion' about the number of elements to iterate over and what they point to.\n",
    "You may want to try something like this."
   ]
  },
  {
   "cell_type": "markdown",
   "metadata": {},
   "source": [
    "I needed to create test_list as I didn't have the VESTA file."
   ]
  },
  {
   "cell_type": "code",
   "execution_count": null,
   "metadata": {
    "collapsed": true
   },
   "outputs": [],
   "source": [
    "test_list = ['','', '1', 'Zr', '', '', '', '', '', '', '', 'Zr1', '', '1.0000', '', '', '0.000000', '', '', '0.000000', '', '',\n",
    "             '0.066667', '', '', '', '1a', '', '', '', '', '', '', '1\\n']"
   ]
  },
  {
   "cell_type": "markdown",
   "metadata": {},
   "source": [
    "Lets create a new temp list and check to see if each element of test_list is white space. If it is we will not add it to temp_struc. However, if it isn't white space we will add it to temp_struc.\n",
    "At the end we will do some redefining to clean things up a bit."
   ]
  },
  {
   "cell_type": "code",
   "execution_count": null,
   "metadata": {
    "collapsed": false
   },
   "outputs": [],
   "source": [
    "temp_struc = []\n",
    "for item in test_list:\n",
    "    if not item == '':\n",
    "        temp_struc.append(item)\n",
    "test_list = temp_struc\n",
    "del temp_struc"
   ]
  },
  {
   "cell_type": "markdown",
   "metadata": {},
   "source": [
    "Lets look at test_list again and see if we have what we want."
   ]
  },
  {
   "cell_type": "code",
   "execution_count": null,
   "metadata": {
    "collapsed": false
   },
   "outputs": [],
   "source": [
    "test_list"
   ]
  },
  {
   "cell_type": "markdown",
   "metadata": {},
   "source": [
    "Looks like it has worked!"
   ]
  },
  {
   "cell_type": "markdown",
   "metadata": {},
   "source": [
    "***"
   ]
  },
  {
   "cell_type": "markdown",
   "metadata": {
    "collapsed": false
   },
   "source": [
    "Below, we convert all of the numbers in STRUC[0] into floats - the strings like \"Zr\" remain as strings. "
   ]
  },
  {
   "cell_type": "code",
   "execution_count": null,
   "metadata": {
    "collapsed": false
   },
   "outputs": [],
   "source": [
    "alphabet = ( \"B\", \"Zr\", \"Si\", \"1a\") #can be generalised further\n",
    "temp_list = []\n",
    "for item in STRUC[0]:\n",
    "    if not any(s in item for s in alphabet):\n",
    "        temp_list.append(float(item))\n",
    "    else:\n",
    "        temp_list.append(item)\n",
    "STRUC[0] = temp_list\n",
    "del temp_list\n",
    "print(STRUC[0])"
   ]
  },
  {
   "cell_type": "markdown",
   "metadata": {},
   "source": [
    "The code below converts elements 4, 5 & 6 in the list STRUC[0] into a numpy array."
   ]
  },
  {
   "cell_type": "code",
   "execution_count": null,
   "metadata": {
    "collapsed": false
   },
   "outputs": [],
   "source": [
    "\n",
    "STRUC[0].insert(4, np.array(STRUC[0][4:7]))\n",
    "del STRUC[0][5:8]\n",
    "print(STRUC[0])"
   ]
  },
  {
   "cell_type": "markdown",
   "metadata": {
    "collapsed": false
   },
   "source": [
    "Below I will add our CELLP to STRUC[0][4] and assess the result. CELLPL is a 3 element numpy array with only the unit cell length parameters. STRUC[0][4] is a numpy array of elements 4, 5 & 6 in STRUC[0]. "
   ]
  },
  {
   "cell_type": "code",
   "execution_count": null,
   "metadata": {
    "collapsed": false
   },
   "outputs": [],
   "source": [
    "test = STRUC[0][:]\n",
    "print(test)\n",
    "test[4] = test[4] + CELLPL\n",
    "print(test)\n",
    "print(STRUC[0])"
   ]
  },
  {
   "cell_type": "markdown",
   "metadata": {
    "collapsed": false
   },
   "source": [
    "Now, \"test\" should be our modified STRUC[0], moved along each axis by 1 cell parameter. Our next step will be to write a new file with the data from test, and check if it can be read in vesta."
   ]
  },
  {
   "cell_type": "code",
   "execution_count": null,
   "metadata": {
    "collapsed": false
   },
   "outputs": [],
   "source": [
    "test_1 = test[0:4]\n",
    "test_2 = test[5:]\n",
    "test_3 = test[4].tolist()\n",
    "test = test_1 + test_3 + test_2\n",
    "print(test)"
   ]
  },
  {
   "cell_type": "code",
   "execution_count": null,
   "metadata": {
    "collapsed": true
   },
   "outputs": [],
   "source": [
    "f = open(\"testfile.txt\", \"w\")\n",
    "f.write(\"#VESTA_FORMAT_VERSION 3.3.0\")\n",
    "f.write(\"CRYSTAL\")\n",
    "f.close()"
   ]
  },
  {
   "cell_type": "markdown",
   "metadata": {},
   "source": [
    "***"
   ]
  },
  {
   "cell_type": "markdown",
   "metadata": {},
   "source": [
    "### Try to keep the file tidy and get rid of redundant testing cells. "
   ]
  },
  {
   "cell_type": "code",
   "execution_count": null,
   "metadata": {
    "collapsed": false
   },
   "outputs": [],
   "source": []
  },
  {
   "cell_type": "code",
   "execution_count": null,
   "metadata": {
    "collapsed": false
   },
   "outputs": [],
   "source": [
    "a=1"
   ]
  },
  {
   "cell_type": "code",
   "execution_count": null,
   "metadata": {
    "collapsed": false
   },
   "outputs": [],
   "source": []
  },
  {
   "cell_type": "code",
   "execution_count": null,
   "metadata": {
    "collapsed": true
   },
   "outputs": [],
   "source": [
    "f.close()"
   ]
  },
  {
   "cell_type": "code",
   "execution_count": null,
   "metadata": {
    "collapsed": true
   },
   "outputs": [],
   "source": [
    "test1 = np.array([])"
   ]
  },
  {
   "cell_type": "code",
   "execution_count": null,
   "metadata": {
    "collapsed": true
   },
   "outputs": [],
   "source": []
  },
  {
   "cell_type": "code",
   "execution_count": null,
   "metadata": {
    "collapsed": true
   },
   "outputs": [],
   "source": []
  },
  {
   "cell_type": "code",
   "execution_count": null,
   "metadata": {
    "collapsed": true
   },
   "outputs": [],
   "source": []
  },
  {
   "cell_type": "code",
   "execution_count": null,
   "metadata": {
    "collapsed": false
   },
   "outputs": [],
   "source": [
    "a"
   ]
  },
  {
   "cell_type": "code",
   "execution_count": null,
   "metadata": {
    "collapsed": true
   },
   "outputs": [],
   "source": []
  }
 ],
 "metadata": {
  "anaconda-cloud": {},
  "kernelspec": {
   "display_name": "Python [default]",
   "language": "python",
   "name": "python3"
  },
  "language_info": {
   "codemirror_mode": {
    "name": "ipython",
    "version": 3
   },
   "file_extension": ".py",
   "mimetype": "text/x-python",
   "name": "python",
   "nbconvert_exporter": "python",
   "pygments_lexer": "ipython3",
   "version": "3.5.2"
  }
 },
 "nbformat": 4,
 "nbformat_minor": 0
}
