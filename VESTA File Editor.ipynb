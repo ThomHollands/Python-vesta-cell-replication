{
 "cells": [
  {
   "cell_type": "code",
   "execution_count": 1649,
   "metadata": {
    "collapsed": true
   },
   "outputs": [],
   "source": [
    "import numpy as np\n",
    "import inspect\n",
    "import os\n",
    "import operator"
   ]
  },
  {
   "cell_type": "markdown",
   "metadata": {},
   "source": [
    "### General File Path Definition"
   ]
  },
  {
   "cell_type": "markdown",
   "metadata": {},
   "source": [
    "Defines the file location to the directory holding the iPython notebook."
   ]
  },
  {
   "cell_type": "code",
   "execution_count": 1650,
   "metadata": {
    "collapsed": false
   },
   "outputs": [],
   "source": [
    "file_dir = os.path.dirname(os.path.abspath(inspect.getfile(inspect.currentframe())))\n",
    "file_name = 'POSCAR_ZrB2_silicene_11x2_v2.vesta'\n",
    "file_path = os.path.join(file_dir, file_name)"
   ]
  },
  {
   "cell_type": "markdown",
   "metadata": {},
   "source": [
    "### File Read Test"
   ]
  },
  {
   "cell_type": "code",
   "execution_count": 1651,
   "metadata": {
    "collapsed": false
   },
   "outputs": [
    {
     "name": "stdout",
     "output_type": "stream",
     "text": [
      "#VESTA_FORMAT_VERSION 3.3.0\n",
      "\n"
     ]
    }
   ],
   "source": [
    "file = open(file_path, 'r')  # Open file in read only mode.\n",
    "print(file.readline())  # Read a single line to make sure everything is ok.\n",
    "file.close()  # Close file."
   ]
  },
  {
   "cell_type": "markdown",
   "metadata": {},
   "source": [
    "### Read File"
   ]
  },
  {
   "cell_type": "markdown",
   "metadata": {},
   "source": [
    "Reads in file as a single string."
   ]
  },
  {
   "cell_type": "code",
   "execution_count": 1652,
   "metadata": {
    "collapsed": true
   },
   "outputs": [],
   "source": [
    "file = open(file_path, 'r')  # Open file in read only mode.\n",
    "file_data = file.read()  # Read the entire file and save as a variable.\n",
    "file.close()  # Close the file."
   ]
  },
  {
   "cell_type": "markdown",
   "metadata": {},
   "source": [
    "Split string by newline '\\n' commands."
   ]
  },
  {
   "cell_type": "code",
   "execution_count": 1653,
   "metadata": {
    "collapsed": false
   },
   "outputs": [],
   "source": [
    "file_data = file_data.split('\\n')  # Split the file by the newline command \\n"
   ]
  },
  {
   "cell_type": "markdown",
   "metadata": {},
   "source": [
    "Define python dictionary of keywords in vesta file that we will then get the indexes for."
   ]
  },
  {
   "cell_type": "code",
   "execution_count": 1654,
   "metadata": {
    "collapsed": false
   },
   "outputs": [],
   "source": [
    "keyword_indx = {\n",
    "    'CRYSTAL': None,\n",
    "    'TITLE': None,\n",
    "    'GROUP': None,\n",
    "    'TRANM 0': None,\n",
    "    'LTRANSL': None,\n",
    "    'LORIENT': None,\n",
    "    'LMATRIX': None,\n",
    "    'CELLP': None,\n",
    "    'STRUC': None,\n",
    "    'THERI 0': None,\n",
    "    'SHAPE': None,\n",
    "    'BOUND': None,\n",
    "    'SBOND': None,\n",
    "    'SITET': None,    \n",
    "}"
   ]
  },
  {
   "cell_type": "markdown",
   "metadata": {},
   "source": [
    "Find the indexes of the different keywords in the vesta file."
   ]
  },
  {
   "cell_type": "code",
   "execution_count": 1655,
   "metadata": {
    "collapsed": false
   },
   "outputs": [],
   "source": [
    "keyword_list = list(keyword_indx.keys())  # defines a list of the keywords.\n",
    "for i in range(len(keyword_list)):  # Iterates over the length of keyword_list.\n",
    "    # For each keyword finds the element index in file_data and saves it to the keyword_indx dictionary.\n",
    "    keyword_indx[keyword_list[i]] = file_data.index(keyword_list[i])"
   ]
  },
  {
   "cell_type": "markdown",
   "metadata": {},
   "source": [
    "### Get CELLP data"
   ]
  },
  {
   "cell_type": "code",
   "execution_count": 1656,
   "metadata": {
    "collapsed": true
   },
   "outputs": [],
   "source": [
    "cellp_data = []  # Empty tuple for cellp data.\n",
    "for i in range(keyword_indx['CELLP'], keyword_indx['STRUC']):  # Iterates from cellp index to struc index.\n",
    "    cellp_data.append(file_data[i])  # Appends the line in cellp to cellp_data.\n",
    "for i in range(1,len(cellp_data)):  # Iterates over the range of cellp_data, ignoring the 1st element.\n",
    "    # Converts strings to floats, using double whitespace as separator.\n",
    "    cellp_data[i] = np.fromstring(cellp_data[i], dtype=float, sep='  ')"
   ]
  },
  {
   "cell_type": "code",
   "execution_count": 1657,
   "metadata": {
    "collapsed": false
   },
   "outputs": [
    {
     "data": {
      "text/plain": [
       "['CELLP',\n",
       " array([ 60.426811,   6.34317 ,  30.      ,  90.      ,  90.      ,  90.      ]),\n",
       " array([ 0.,  0.,  0.,  0.,  0.,  0.])]"
      ]
     },
     "execution_count": 1657,
     "metadata": {},
     "output_type": "execute_result"
    }
   ],
   "source": [
    "cellp_data  # Looks at cellp_data"
   ]
  },
  {
   "cell_type": "markdown",
   "metadata": {},
   "source": [
    "### STRUC Data"
   ]
  },
  {
   "cell_type": "markdown",
   "metadata": {},
   "source": [
    "Separates out the structure data from file_data."
   ]
  },
  {
   "cell_type": "code",
   "execution_count": 1658,
   "metadata": {
    "collapsed": true
   },
   "outputs": [],
   "source": [
    "struc_data = []  # Empty tuple for strucure data to be added.\n",
    "for i in range(keyword_indx['STRUC'], keyword_indx['THERI 0']):  # Iteratres between struc and theri 0 keyword indexes.\n",
    "    struc_data.append(file_data[i])  # Appends the lines to struc_data."
   ]
  },
  {
   "cell_type": "markdown",
   "metadata": {},
   "source": [
    "Line wise splits single string by white space and then removes elements that are empty."
   ]
  },
  {
   "cell_type": "code",
   "execution_count": 1659,
   "metadata": {
    "collapsed": false
   },
   "outputs": [],
   "source": [
    "for i in range(1, len(struc_data)):  # Iterates over the length of struc_data, ignoring 1st element.\n",
    "    temp_line = np.array(struc_data[i].split(' '))  # splits each line by single whitespace character.\n",
    "    temp_line_1 = np.array([])  # Creates an empty numpy array.\n",
    "    for j in range(0, len(temp_line)):  # Iterates over the length of split string list in temp_line.\n",
    "        if not temp_line[j] == '':  #  Checks if element is empty.\n",
    "            temp_line_1 = np.append(temp_line_1, temp_line[j])  # If not empty appends to temp_line_1\n",
    "    struc_data[i] = temp_line_1  # Sets temp_line_1 to struc_data line.\n",
    "del temp_line, temp_line_1  # Deletes temporary lines."
   ]
  },
  {
   "cell_type": "markdown",
   "metadata": {},
   "source": [
    "A function to check if a string can be converted to a float."
   ]
  },
  {
   "cell_type": "code",
   "execution_count": 1660,
   "metadata": {
    "collapsed": true
   },
   "outputs": [],
   "source": [
    "def str2float_check(string):\n",
    "    try:\n",
    "        float(string)  # Attempts to convert a string to a float.\n",
    "        return True  # If attempt was successful returns true.\n",
    "    except ValueError:\n",
    "        return False  #If attempt fails returns false."
   ]
  },
  {
   "cell_type": "markdown",
   "metadata": {},
   "source": [
    "iterates over the structure data linewise, and then element wise to convert strings that contain a number to a float."
   ]
  },
  {
   "cell_type": "code",
   "execution_count": 1661,
   "metadata": {
    "collapsed": false
   },
   "outputs": [],
   "source": [
    "for i in range(1, len(struc_data)):  # iterates over lines of struc_data\n",
    "    temp_line = []  # create a temporary line\n",
    "    for j in range(len(struc_data[i])):  # iterates over elements of line 'i' in struc_data\n",
    "        if str2float_check(struc_data[i][j]):  # returns true if element can be converted to a float.\n",
    "            temp_line.append(float(struc_data[i][j]))  # Adds float conversion to temp_line.\n",
    "        else:\n",
    "            temp_line.append(struc_data[i][j])  # Adds string to temp_line.\n",
    "    struc_data[i] = temp_line  # Sets struc_data line to temp_line.\n",
    "del temp_line  # Deletes temporary lines."
   ]
  },
  {
   "cell_type": "markdown",
   "metadata": {},
   "source": [
    "#### Test of struc_data\n",
    "Here we will quickly look at some of the lines in struc_data to make sure they look ok."
   ]
  },
  {
   "cell_type": "code",
   "execution_count": 1662,
   "metadata": {
    "collapsed": false
   },
   "outputs": [
    {
     "data": {
      "text/plain": [
       "['STRUC',\n",
       " [1.0, 'Zr', 'Zr1', 1.0, 0.0, 0.0, 0.066667, '1a', 1.0],\n",
       " [0.0, 0.0, 0.0, 0.0],\n",
       " [2.0, 'Zr', 'Zr2', 1.0, 0.909091, 0.0, 0.066667, '1a', 1.0],\n",
       " [0.0, 0.0, 0.0, 0.0]]"
      ]
     },
     "execution_count": 1662,
     "metadata": {},
     "output_type": "execute_result"
    }
   ],
   "source": [
    "struc_data[0:5]"
   ]
  },
  {
   "cell_type": "markdown",
   "metadata": {},
   "source": [
    "## Sorted Keywords\n",
    "Sorts the vesta file keywords by their position in struc_data"
   ]
  },
  {
   "cell_type": "code",
   "execution_count": 1663,
   "metadata": {
    "collapsed": false
   },
   "outputs": [
    {
     "data": {
      "text/plain": [
       "[('CRYSTAL', 3),\n",
       " ('TITLE', 5),\n",
       " ('GROUP', 8),\n",
       " ('TRANM 0', 13),\n",
       " ('LTRANSL', 15),\n",
       " ('LORIENT', 18),\n",
       " ('LMATRIX', 22),\n",
       " ('CELLP', 28),\n",
       " ('STRUC', 31),\n",
       " ('THERI 0', 777),\n",
       " ('SHAPE', 1151),\n",
       " ('BOUND', 1153),\n",
       " ('SBOND', 1156),\n",
       " ('SITET', 1160)]"
      ]
     },
     "execution_count": 1663,
     "metadata": {},
     "output_type": "execute_result"
    }
   ],
   "source": [
    "keywords_srt = sorted(keyword_indx.items(), key=operator.itemgetter(1))\n",
    "keywords_srt"
   ]
  },
  {
   "cell_type": "markdown",
   "metadata": {},
   "source": [
    "## Define path to new file"
   ]
  },
  {
   "cell_type": "code",
   "execution_count": 1664,
   "metadata": {
    "collapsed": true
   },
   "outputs": [],
   "source": [
    "new_file_name = 'test_vesta_file.vesta'  # Name file will be created with.\n",
    "new_file_path = os.path.join(file_dir, new_file_name)  # Defines pull file path, from workbook directory."
   ]
  },
  {
   "cell_type": "markdown",
   "metadata": {},
   "source": [
    "### Generate Absolute coordinates from STRUC and CELLP\n",
    "At the moment, all coordinates are relative to the supercell dimensions. In order to add more supercells, we must first recover the absolute coordinates, then iterate over the supercell, before re-converting all coordinates into relative form."
   ]
  },
  {
   "cell_type": "code",
   "execution_count": 1665,
   "metadata": {
    "collapsed": false
   },
   "outputs": [],
   "source": [
    "abs_coord_data = []\n",
    "for i in range(1, len(struc_data)): #iterates over struc_data starting at element 1\n",
    "    abs_coord_data.append(struc_data[i][:]) #adds each line of struc_data as a copy (the colon operator is important here)\n",
    "for i in range(0, len(abs_coord_data), 2): #iterates over abs_coord_data in steps of 2\n",
    "    abs_coord_data[i][4:7] = np.multiply(cellp_data[1][0:3], abs_coord_data[i][4:7]) \n",
    "    #multiplies the cellp elementwise into the coordinate data"
   ]
  },
  {
   "cell_type": "markdown",
   "metadata": {},
   "source": [
    "### Create New CELLP data\n",
    "Below we create new cell parameters with double dimensions of the previous ones"
   ]
  },
  {
   "cell_type": "code",
   "execution_count": 1666,
   "metadata": {
    "collapsed": false
   },
   "outputs": [],
   "source": [
    "cellp_data2 = cellp_data[:] #create new cellp data with double the dimensions of original.\n",
    "cellp_data2[1] = +cellp_data[1][:] # + prefix creates a new numpy array (slicing with the colon operator doesn't work)\n",
    "cellp_data2[1][0:3] = 2*cellp_data2[1][0:3]"
   ]
  },
  {
   "cell_type": "markdown",
   "metadata": {},
   "source": [
    "### Create New STRUC elements with absolute coordinates\n",
    "Next we need to use the absolute coordinate data to create absolute coordinates for our new atoms."
   ]
  },
  {
   "cell_type": "code",
   "execution_count": 1667,
   "metadata": {
    "collapsed": false
   },
   "outputs": [],
   "source": [
    "abs_coord_data2 = [] #defines the abs_coord_data2 initially as a copy of the other data\n",
    "for i in range(0, len(abs_coord_data)):\n",
    "    abs_coord_data2.append(abs_coord_data[i][:])\n",
    "for i in range(0, len(abs_coord_data2), 2):\n",
    "    abs_coord_data2[i][4:7] = cellp_data[1][0:3] + abs_coord_data2[i][4:7] #shifts new atoms along by one supercell length"
   ]
  },
  {
   "cell_type": "code",
   "execution_count": 1668,
   "metadata": {
    "collapsed": false
   },
   "outputs": [
    {
     "data": {
      "text/plain": [
       "['CELLP',\n",
       " array([ 60.426811,   6.34317 ,  30.      ,  90.      ,  90.      ,  90.      ]),\n",
       " array([ 0.,  0.,  0.,  0.,  0.,  0.])]"
      ]
     },
     "execution_count": 1668,
     "metadata": {},
     "output_type": "execute_result"
    }
   ],
   "source": [
    "cellp_data"
   ]
  },
  {
   "cell_type": "code",
   "execution_count": null,
   "metadata": {
    "collapsed": false
   },
   "outputs": [],
   "source": []
  },
  {
   "cell_type": "markdown",
   "metadata": {},
   "source": [
    "### Reformat the text data so VESTA can read it\n",
    "VESTA expects different integers in the first column, so we need to change abs_coord_data2 to have this. It also expects differently labled atoms, which we also need to change, because currently the atom labels are copies of the original. There are 373 atoms per supercell, so we need 2*373 labels."
   ]
  },
  {
   "cell_type": "code",
   "execution_count": 1669,
   "metadata": {
    "collapsed": false
   },
   "outputs": [],
   "source": [
    "struc_data2 = ['STRUC'] #adds STRUC header\n",
    "for i in range(0, len(abs_coord_data)-1): #adds all of original struc data, eliminating the final element\n",
    "    struc_data2.append(abs_coord_data[i][:])\n",
    "for i in range(0, len(abs_coord_data2)): #adds all of the new struc data\n",
    "    struc_data2.append(abs_coord_data2[i][:])\n"
   ]
  },
  {
   "cell_type": "code",
   "execution_count": 1670,
   "metadata": {
    "collapsed": false
   },
   "outputs": [],
   "source": [
    "c = 0 #define Zr atom count\n",
    "c1 = 0 #define B atom count\n",
    "c2 = 0 #define Si atom count\n",
    "c3 = 0 #define line count\n",
    "for i in range(1, len(struc_data2), 2): #iterates over struc_data2 in steps of 2\n",
    "    c3 = c3 + 1\n",
    "    struc_data2[i][0] = int(c3) #redefines the line count as an integer\n",
    "    if struc_data2[i][1] == \"Zr\": #checks if the atom is a Zr atom.\n",
    "        c = c + 1 #increases the Zr atom count\n",
    "        struc_data2[i][2] = \"Zr\" + str(c) #relabels the Zr atom based on its count\n",
    "    elif struc_data2[i][1] == \"B\":\n",
    "            c1 = c1 + 1\n",
    "            struc_data2[i][2] = \"B\" + str(c1)\n",
    "    elif struc_data2[i][1] == \"Si\":\n",
    "        c2 = c2 + 1\n",
    "        struc_data2[i][2] = \"Si\" +str(c2)\n",
    "del c #deletes our counters\n",
    "del c1\n",
    "del c2\n",
    "del c3"
   ]
  },
  {
   "cell_type": "markdown",
   "metadata": {},
   "source": [
    "### Convert Absolute Coordinates into Relative Coordinates\n",
    "Now, we convert our absolute coordinates back into relative coordinates."
   ]
  },
  {
   "cell_type": "code",
   "execution_count": 1671,
   "metadata": {
    "collapsed": false
   },
   "outputs": [],
   "source": [
    "for i in range(1, len(struc_data2), 2): #iterates over length of struc_data2 in steps of 2\n",
    "    struc_data2[i][4:7] = np.divide(struc_data2[i][4:7], cellp_data2[1][0:3]) \n",
    "    #divides the absolute coordinates element-wise by their respective cellp"
   ]
  },
  {
   "cell_type": "markdown",
   "metadata": {},
   "source": [
    "### Write VESTA Header"
   ]
  },
  {
   "cell_type": "code",
   "execution_count": 1672,
   "metadata": {
    "collapsed": false
   },
   "outputs": [],
   "source": [
    "new_file = open(new_file_path, 'a')  # Looks for file with name/path new_file_path, either creates or opens in append mode.\n",
    "new_file.write(file_data[0])  # Wrties version header to file.\n",
    "new_file.write('\\n\\n')  # Added two blank lines before next first keyword.\n",
    "new_file.close()  # Closes new file."
   ]
  },
  {
   "cell_type": "markdown",
   "metadata": {},
   "source": [
    "### Write CRYSTAL SECTION"
   ]
  },
  {
   "cell_type": "markdown",
   "metadata": {},
   "source": [
    "Below I write the Crystal and Title sections, by creating a temporary list which I then iterate over and add element by element (each element is a line of text) to the new file"
   ]
  },
  {
   "cell_type": "code",
   "execution_count": 1673,
   "metadata": {
    "collapsed": false
   },
   "outputs": [],
   "source": [
    "new_file =open(new_file_path, 'a')#Looks for file with name/path new_file_path, either creates or opens in append mode.\n",
    "temp_list = file_data[keywords_srt[0][1]:keywords_srt[1][1]] #defines a list of the data in the CRYSTAL section\n",
    "for i in range(0, len(temp_list)): #iterates over the length of the list\n",
    "    new_file.write('%s\\n' % temp_list[i])#writes the CRYSTAL section to the file line by line, and starts a new line.\n",
    "del temp_list #deletes the temporary list.\n",
    "new_file.close() #closes new file."
   ]
  },
  {
   "cell_type": "markdown",
   "metadata": {},
   "source": [
    "### Write TITLE SECTION"
   ]
  },
  {
   "cell_type": "code",
   "execution_count": 1674,
   "metadata": {
    "collapsed": true
   },
   "outputs": [],
   "source": [
    "new_file=open(new_file_path, 'a') #Looks for file with name/path new_file_path, either creates or opens in append mode.\n",
    "temp_list = file_data[keywords_srt[1][1]:keywords_srt[2][1]] #defines a list of the data in the TITLE section\n",
    "for i in range(0, len(temp_list)): #iterates over the length of the list\n",
    "    new_file.write('%s\\n' % temp_list[i]) #writes the TITLE section to the file line by line, and starts a new line.\n",
    "del temp_list #deletes the temporary list.\n",
    "new_file.close() #closes new file."
   ]
  },
  {
   "cell_type": "markdown",
   "metadata": {},
   "source": [
    "### Write Group up to CELLP"
   ]
  },
  {
   "cell_type": "markdown",
   "metadata": {},
   "source": [
    "This time, instead of doing it section by section, I decided to write in all of the remaining sections before the cell parameters, using the same method as above."
   ]
  },
  {
   "cell_type": "code",
   "execution_count": 1675,
   "metadata": {
    "collapsed": true
   },
   "outputs": [],
   "source": [
    "new_file=open(new_file_path, 'a') #Looks for file with name/path new_file_path, either creates or opens in append mode.\n",
    "temp_list = file_data[keywords_srt[2][1]:keywords_srt[7][1]] #defines a list of the lines between GROUP and CELLP\n",
    "for i in range(0, len(temp_list)): #iterates over the length of the list\n",
    "    new_file.write('%s\\n' % temp_list[i]) #writes each line, and begins a new line.\n",
    "del temp_list #deletes the temporary list.\n",
    "new_file.close() #closes the file."
   ]
  },
  {
   "cell_type": "markdown",
   "metadata": {},
   "source": [
    "### Write cell parameters to new vesta file"
   ]
  },
  {
   "cell_type": "markdown",
   "metadata": {},
   "source": [
    "Below, I write the cell parameters to the new text file. The \"for\" loops in the middle of the code re-format the cell parameters back into strings rounded to six decimal places, as in the original file. \n",
    "UPDATE: I am using cellp2 this time."
   ]
  },
  {
   "cell_type": "code",
   "execution_count": 1676,
   "metadata": {
    "collapsed": true
   },
   "outputs": [],
   "source": [
    "new_file = open(new_file_path, 'a')  # Looks for file with name/path new_file_path, either creates or opens in append mode.\n",
    "new_file.write('%s\\n' % cellp_data[0])  # Writes CELLP keyword.\n",
    "temp_list = [[],[]] #creates a temp list with two empty nested lists.\n",
    "for i in cellp_data2[1]: \n",
    "    temp_list[0].append('{:f}'.format(i)) #reformats the cell parameters to the correct decimal places\n",
    "for i in cellp_data2[2]:\n",
    "    temp_list[1].append('{:f}'.format(i)) #reformats the cell parameters to the correct decimal places\n",
    "for i in range(2):  # Iterates twice.\n",
    "    # Formats each line in temp_list back into a string for writing into new_file_path.\n",
    "    new_file.write(' %s  %s  %s  %s  %s  %s\\n' % (temp_list[i][0], temp_list[i][1], temp_list[i][2], temp_list[i][3], \n",
    "                                                 temp_list[i][4], temp_list[i][5]))\n",
    "del temp_list\n",
    "new_file.close()  # Closes file."
   ]
  },
  {
   "cell_type": "markdown",
   "metadata": {},
   "source": [
    "### Write Structure parameters to new vesta file"
   ]
  },
  {
   "cell_type": "markdown",
   "metadata": {},
   "source": [
    " The following for loop iterates over struc_data ignoring 1st element, in steps of 2.\n",
    " Each atom on struc has two lines. The 1st contains atom number, type, and position, the 2nd contains unknown info, but is re-included for completeness. The first number in the loop needs to be input as an integer.\n",
    " UPDATE: The file can now be read in VESTA!\n"
   ]
  },
  {
   "cell_type": "code",
   "execution_count": 1677,
   "metadata": {
    "collapsed": false
   },
   "outputs": [],
   "source": [
    "new_file = open(new_file_path, 'a')  # Looks for file with name/path new_file_path, either creates or opens in append mode.\n",
    "new_file.write('%s\\n' % struc_data2[0])  # Writes STRUC keyword.\n",
    "for i in range(1, len(struc_data2)-1, 2): #(for Toby) the minus 1 had to be included because otherwise the range ends on an even number.\n",
    "    new_file.write('  %i %s        %s  %s   %s   %s   %s    %s       %s\\n' % (struc_data2[i][0], struc_data2[i][1], struc_data2[i][2], struc_data2[i][3], struc_data2[i][4], struc_data2[i][5], struc_data2[i][6], struc_data2[i][7], struc_data2[i][8]))\n",
    "    new_file.write('%s  %s  %s  %s\\n' % (struc_data2[i+1][0], struc_data2[i+1][1], struc_data2[i+1][2], struc_data2[i+1][3]))\n",
    "new_file.write('0 0 0 0 0 0 0\\n')\n",
    "new_file.close()"
   ]
  },
  {
   "cell_type": "markdown",
   "metadata": {},
   "source": [
    "### Write the rest of the file"
   ]
  },
  {
   "cell_type": "markdown",
   "metadata": {},
   "source": [
    "UPDATE: I have been able to write the entire file, however in the STRUC section there seems to be a spacing problem- the additional zeros have been removed in conversion from float to string and vice versa, and I think that is causing a spacing problem in our text file."
   ]
  },
  {
   "cell_type": "code",
   "execution_count": 1678,
   "metadata": {
    "collapsed": false
   },
   "outputs": [],
   "source": [
    "new_file = open(new_file_path, 'a') #opens the file.\n",
    "temp_list = file_data[keywords_srt[9][1]:] #creates a temporary list of the rest of the lines in file_data, after STRUC.\n",
    "for i in range(0, len(temp_list)): #iterates over temp_list\n",
    "    new_file.write('%s\\n' % temp_list[i]) #writes each line in temp_list to our file, then changes to a new line.\n",
    "del temp_list #deletes our temp_list\n",
    "new_file.close() #closes the file.\n",
    "    "
   ]
  },
  {
   "cell_type": "code",
   "execution_count": 1679,
   "metadata": {
    "collapsed": true
   },
   "outputs": [],
   "source": [
    "new_file = open(new_file_path, 'a')\n",
    "new_file.close()"
   ]
  },
  {
   "cell_type": "markdown",
   "metadata": {},
   "source": [
    "***"
   ]
  },
  {
   "cell_type": "markdown",
   "metadata": {},
   "source": [
    "***"
   ]
  },
  {
   "cell_type": "code",
   "execution_count": null,
   "metadata": {
    "collapsed": false
   },
   "outputs": [],
   "source": []
  },
  {
   "cell_type": "markdown",
   "metadata": {},
   "source": [
    "### Try to keep the file tidy and get rid of redundant testing cells. "
   ]
  }
 ],
 "metadata": {
  "anaconda-cloud": {},
  "kernelspec": {
   "display_name": "Python [Root]",
   "language": "python",
   "name": "Python [Root]"
  },
  "language_info": {
   "codemirror_mode": {
    "name": "ipython",
    "version": 3
   },
   "file_extension": ".py",
   "mimetype": "text/x-python",
   "name": "python",
   "nbconvert_exporter": "python",
   "pygments_lexer": "ipython3",
   "version": "3.5.2"
  }
 },
 "nbformat": 4,
 "nbformat_minor": 0
}
