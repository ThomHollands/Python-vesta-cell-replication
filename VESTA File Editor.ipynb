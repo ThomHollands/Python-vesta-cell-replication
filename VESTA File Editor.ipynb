{
 "cells": [
  {
   "cell_type": "markdown",
   "metadata": {},
   "source": [
    "# Replicating the unit cell of a Silicene Lattice"
   ]
  },
  {
   "cell_type": "code",
   "execution_count": 1,
   "metadata": {
    "collapsed": true
   },
   "outputs": [],
   "source": [
    "import numpy as np\n",
    "import inspect\n",
    "import os"
   ]
  },
  {
   "cell_type": "markdown",
   "metadata": {},
   "source": [
    "### General File Path Definition"
   ]
  },
  {
   "cell_type": "markdown",
   "metadata": {},
   "source": [
    "Defines the file location to the directory holding the iPython notebook."
   ]
  },
  {
   "cell_type": "code",
   "execution_count": 2,
   "metadata": {
    "collapsed": false
   },
   "outputs": [],
   "source": [
    "file_dir = os.path.dirname(os.path.abspath(inspect.getfile(inspect.currentframe())))\n",
    "file_name = 'POSCAR_ZrB2_silicene_11x2_v2.vesta'\n",
    "file_path = os.path.join(file_dir, file_name)"
   ]
  },
  {
   "cell_type": "markdown",
   "metadata": {},
   "source": [
    "### File Read Test"
   ]
  },
  {
   "cell_type": "code",
   "execution_count": 3,
   "metadata": {
    "collapsed": false
   },
   "outputs": [
    {
     "name": "stdout",
     "output_type": "stream",
     "text": [
      "#VESTA_FORMAT_VERSION 3.1.9\n",
      "\n"
     ]
    }
   ],
   "source": [
    "file = open(file_path, 'r')  # Open file in read only mode.\n",
    "print(file.readline())  # Read a single line to make sure everything is ok.\n",
    "file.close()  # Close file."
   ]
  },
  {
   "cell_type": "markdown",
   "metadata": {},
   "source": [
    "### Read File"
   ]
  },
  {
   "cell_type": "markdown",
   "metadata": {},
   "source": [
    "Reads in file as a single string."
   ]
  },
  {
   "cell_type": "code",
   "execution_count": 4,
   "metadata": {
    "collapsed": true
   },
   "outputs": [],
   "source": [
    "file = open(file_path, 'r')  # Open file in read only mode.\n",
    "file_data = file.read()  # Read the entire file and save as a variable.\n",
    "file.close()  # Close the file."
   ]
  },
  {
   "cell_type": "markdown",
   "metadata": {},
   "source": [
    "Split string by newline '\\n' commands."
   ]
  },
  {
   "cell_type": "code",
   "execution_count": 5,
   "metadata": {
    "collapsed": false
   },
   "outputs": [],
   "source": [
    "file_data = file_data.split('\\n')  # Split the file by the newline command \\n"
   ]
  },
  {
   "cell_type": "markdown",
   "metadata": {},
   "source": [
    "Define python dictionary of keywords in vesta file that we will then get the indexes for."
   ]
  },
  {
   "cell_type": "code",
   "execution_count": 7,
   "metadata": {
    "collapsed": false
   },
   "outputs": [],
   "source": [
    "keyword_indx = {\n",
    "    'CRYSTAL': None,\n",
    "    'TITLE': None,\n",
    "    'GROUP': None,\n",
    "    'TRANM': None,\n",
    "    'LTRANSL': None,\n",
    "    'LORIENT': None,\n",
    "    'LMATRIX': None,\n",
    "    'CELLP': None,\n",
    "    'STRUC': None,\n",
    "    'THERI 0': None,\n",
    "    'SHAPE': None,\n",
    "    'BOUND': None,\n",
    "    'SBOND': None,\n",
    "    'SITET': None,    \n",
    "}"
   ]
  },
  {
   "cell_type": "markdown",
   "metadata": {},
   "source": [
    "Find the indexes of the different keywords in the vesta file."
   ]
  },
  {
   "cell_type": "code",
   "execution_count": 9,
   "metadata": {
    "collapsed": false
   },
   "outputs": [],
   "source": [
    "keyword_list = list(keyword_indx.keys())  # defines a list of the keywords.\n",
    "for i in range(len(keyword_list)):  # Iterates over the length og keyword_list.\n",
    "    # For each keyword finds the element index in file_data and saves it to the keyword_indx dictionary.\n",
    "    keyword_indx[keyword_list[i]] = file_data.index(keyword_list[i])"
   ]
  },
  {
   "cell_type": "markdown",
   "metadata": {},
   "source": [
    "### Get CELLP data"
   ]
  },
  {
   "cell_type": "code",
   "execution_count": 10,
   "metadata": {
    "collapsed": true
   },
   "outputs": [],
   "source": [
    "cellp_data = []  # Empty tuple for cellp data.\n",
    "for i in range(keyword_indx['CELLP'], keyword_indx['STRUC']):  # Iterates from cellp index to struc index.\n",
    "    cellp_data.append(file_data[i])  # Appends the line in cellp to cellp_data.\n",
    "for i in range(1,len(cellp_data)):  # Iterates over the range of cellp_data, ignoring the 1st element.\n",
    "    # Converts strings to floats, using double whitespace as separator.\n",
    "    cellp_data[i] = np.fromstring(cellp_data[i], dtype=float, sep='  ')"
   ]
  },
  {
   "cell_type": "code",
   "execution_count": 11,
   "metadata": {
    "collapsed": false
   },
   "outputs": [
    {
     "data": {
      "text/plain": [
       "['CELLP',\n",
       " array([ 60.426811,   6.34317 ,  26.60656 ,  90.      ,  90.      ,  90.      ]),\n",
       " array([ 0.,  0.,  0.,  0.,  0.,  0.])]"
      ]
     },
     "execution_count": 11,
     "metadata": {},
     "output_type": "execute_result"
    }
   ],
   "source": [
    "cellp_data  # Looks at cellp_data"
   ]
  },
  {
   "cell_type": "markdown",
   "metadata": {},
   "source": [
    "### STRUC Data"
   ]
  },
  {
   "cell_type": "markdown",
   "metadata": {},
   "source": [
    "Separates out the structure data from file_data."
   ]
  },
  {
   "cell_type": "code",
   "execution_count": 12,
   "metadata": {
    "collapsed": true
   },
   "outputs": [],
   "source": [
    "struc_data = []  # Empty tuple for strucure data to be added.\n",
    "for i in range(keyword_indx['STRUC'], keyword_indx['THERI 0']):  # Iteratres between struc and theri 0 keyword indexes.\n",
    "    struc_data.append(file_data[i])  # Appends the lines to struc_data."
   ]
  },
  {
   "cell_type": "markdown",
   "metadata": {},
   "source": [
    "Line wise splits single string by white space and then removes elements that are empty."
   ]
  },
  {
   "cell_type": "code",
   "execution_count": 13,
   "metadata": {
    "collapsed": false
   },
   "outputs": [],
   "source": [
    "for i in range(1, len(struc_data)):  # Iterates over the length of struc_data, ignoring 1st element.\n",
    "    temp_line = np.array(struc_data[i].split(' '))  # splits each line by single whitespace character.\n",
    "    temp_line_1 = np.array([])  # Creates an empty numpy array.\n",
    "    for j in range(0, len(temp_line)):  # Iterates over the length of split string list in temp_line.\n",
    "        if not temp_line[j] == '':  #  Checks if element is empty.\n",
    "            temp_line_1 = np.append(temp_line_1, temp_line[j])  # If not empty appends to temp_line_1\n",
    "    struc_data[i] = temp_line_1  # Sets temp_line_1 to struc_data line.\n",
    "del temp_line, temp_line_1  # Deletes temporary lines."
   ]
  },
  {
   "cell_type": "markdown",
   "metadata": {},
   "source": [
    "A function to check if a string can be converted to a float."
   ]
  },
  {
   "cell_type": "code",
   "execution_count": 14,
   "metadata": {
    "collapsed": true
   },
   "outputs": [],
   "source": [
    "def str2float_check(string):\n",
    "    try:\n",
    "        float(string)  # Attempts to convert a string to a float.\n",
    "        return True  # If attempt was successful returns true.\n",
    "    except ValueError:\n",
    "        return False  #If attempt fails returns false."
   ]
  },
  {
   "cell_type": "markdown",
   "metadata": {},
   "source": [
    "iterates over the structure data linewise, and then element wise to convert strings that contain a number to a float."
   ]
  },
  {
   "cell_type": "code",
   "execution_count": 15,
   "metadata": {
    "collapsed": false
   },
   "outputs": [],
   "source": [
    "for i in range(1, len(struc_data)):  # iterates over lines of struc_data\n",
    "    temp_line = []  # create a temporary line\n",
    "    for j in range(len(struc_data[i])):  # iterates over elements of line 'i' in struc_data\n",
    "        if str2float_check(struc_data[i][j]):  # returns true if element can be converted to a float.\n",
    "            temp_line.append(float(struc_data[i][j]))  # Adds float conversion to temp_line.\n",
    "        else:\n",
    "            temp_line.append(struc_data[i][j])  # Adds string to temp_line.\n",
    "    struc_data[i] = temp_line  # Sets struc_data line to temp_line.\n",
    "del temp_line  # Deletes temporary lines."
   ]
  },
  {
   "cell_type": "markdown",
   "metadata": {},
   "source": [
    "#### Test of struc_data\n",
    "Here we will quickly look at some of the lines in struc_data to make sure they look ok."
   ]
  },
  {
   "cell_type": "code",
   "execution_count": 16,
   "metadata": {
    "collapsed": false
   },
   "outputs": [
    {
     "data": {
      "text/plain": [
       "['STRUC',\n",
       " [1.0, 'Zr', 'Zr1', 1.0, 0.0, 0.0, 0.133333, '1a', 1.0],\n",
       " [0.0, 0.0, 0.0, 0.0],\n",
       " [2.0, 'Zr', 'Zr2', 1.0, 0.909091, 0.0, 0.133333, '1a', 1.0],\n",
       " [0.0, 0.0, 0.0, 0.0]]"
      ]
     },
     "execution_count": 16,
     "metadata": {},
     "output_type": "execute_result"
    }
   ],
   "source": [
    "struc_data[0:5]"
   ]
  },
  {
   "cell_type": "markdown",
   "metadata": {},
   "source": [
    "## Define path to new file"
   ]
  },
  {
   "cell_type": "code",
   "execution_count": null,
   "metadata": {
    "collapsed": true
   },
   "outputs": [],
   "source": [
    "new_file_name = 'test_vesta_file.vesta'  # Name file will be created with.\n",
    "new_file_path = os.path.join(file_dir, new_file_name)  # Defines pull file path, from workbook directory."
   ]
  },
  {
   "cell_type": "markdown",
   "metadata": {},
   "source": [
    "### Write cell parameters to new vesta file"
   ]
  },
  {
   "cell_type": "code",
   "execution_count": null,
   "metadata": {
    "collapsed": false
   },
   "outputs": [],
   "source": [
    "new_file = open(new_file_path, 'a')  # Looks for file with name/path new_file_path, either creates or opens in append mode.\n",
    "new_file.write('%s\\n' % cellp_data[0])  # Writes CELLP keyword.\n",
    "for i in range(1, len(cellp_data)):  # Iterates over length of cellp_data ignoring first element.\n",
    "    # Formats each line in cellp_data back into a string for writing into new_file_path.\n",
    "    new_file.write('%s  %s  %s  %s  %s  %s\\n' % (cellp_data[i][0], cellp_data[i][1], cellp_data[i][2], cellp_data[i][3], \n",
    "                                                 cellp_data[i][4], cellp_data[i][5]))\n",
    "new_file.close()  # Closes file."
   ]
  },
  {
   "cell_type": "markdown",
   "metadata": {},
   "source": [
    "### Write Structure parameters to new vesta file"
   ]
  },
  {
   "cell_type": "code",
   "execution_count": null,
   "metadata": {
    "collapsed": false
   },
   "outputs": [],
   "source": [
    "new_file = open(new_file_path, 'a')  # Looks for file with name/path new_file_path, either creates or opens in append mode.\n",
    "new_file.write('%s\\,' % struc_data[0])  # Writes STRUC keyword.\n",
    "for i in range(1, len(struc_data), 2):  # Iterates over struc_data ignoring 1st element, in steps of 2.\n",
    "    # each atom on struc has two lines. The 1st contains atom number, type, and position, the 2nd contains unknown info, but is\n",
    "    # re-included for completeness.\n",
    "    \n",
    "    new_file.write('  %s %s        %s  %s   %s   %s   %s    %s       %s' % (struc_data[i][0], struc_data[i][1], \n",
    "                                                                            struc_data[i][2], struc_data[i][3], struc_data[i][4], \n",
    "                                                                            struc_data[i][5], struc_data[i][6], struc_data[i][7],\n",
    "                                                                            struc_data[i][8]))\n",
    "    new_file.write('%s  %s  %s  %s' % (struc_data[i+1][0], struc_data[i+1][1], struc_data[i+1][2], struc_data[i+1][3])\n",
    "\n",
    "new_file.close()  # Closes file."
   ]
  },
  {
   "cell_type": "markdown",
   "metadata": {},
   "source": [
    "Below, I open our vesta file in reading and writing mode.\n",
    "Then, I extract the cellparameters (CELLP) from the file, and save them as a numpy array.\n",
    "This will be used later to iterate over the structure. CELLPL is a numpy array of just the cell parameters, a,b &c."
   ]
  },
  {
   "cell_type": "code",
   "execution_count": null,
   "metadata": {
    "collapsed": false
   },
   "outputs": [],
   "source": [
    "f = open(\"POSCAR_silicene_ZrB2_Tedit.vesta\", \"r\") #opens the file in reading mode\n",
    "for line in f:\n",
    "    if \"CELLP\" in line:\n",
    "        for line in f:\n",
    "            if \"60.426811\" in line:\n",
    "                CELLP = np.fromstring(line, dtype=float, count=-1, sep=\"   \") #creates CELLP as a 1D numpy array\n",
    "                break\n",
    "            else:\n",
    "                break\n",
    "print(CELLP)\n",
    "CELLPL = CELLP[0:3]\n",
    "print(CELLPL)"
   ]
  },
  {
   "cell_type": "markdown",
   "metadata": {},
   "source": [
    "The cell below reads the \"STRUC\" section line by line, saving each line as a line in the list STRUC.\n",
    "The line below it tests this, by printing STRUC[0]. Later, these lines will be converted into numpy arrays, which can be operated on."
   ]
  },
  {
   "cell_type": "code",
   "execution_count": null,
   "metadata": {
    "collapsed": false
   },
   "outputs": [],
   "source": [
    "f = open(\"POSCAR_silicene_ZrB2_Tedit.vesta\", \"r+\")\n",
    "STRUC = []\n",
    "for line in f:\n",
    "    if \"STRUC\" in line:\n",
    "        STRUC.append(f.readline())\n",
    "        f.readline()\n",
    "        STRUC.append(f.readline())\n",
    "f.close()"
   ]
  },
  {
   "cell_type": "code",
   "execution_count": null,
   "metadata": {
    "collapsed": false
   },
   "outputs": [],
   "source": [
    "STRUC[0]"
   ]
  },
  {
   "cell_type": "markdown",
   "metadata": {},
   "source": [
    "The code below splits the element STRUC[0], which is one big  string, by its whitespace. Later, we will remove the whitespace."
   ]
  },
  {
   "cell_type": "code",
   "execution_count": null,
   "metadata": {
    "collapsed": false
   },
   "outputs": [],
   "source": [
    "STRUC[0] = STRUC[0].split(\" \")\n",
    "STRUC[0]"
   ]
  },
  {
   "cell_type": "markdown",
   "metadata": {},
   "source": [
    "The code below removes the whitespace in STRUC[0]. It has to be iterated several times, because for some reason the 2nd-4th lines don't remove all of the whitespace first time."
   ]
  },
  {
   "cell_type": "code",
   "execution_count": null,
   "metadata": {
    "collapsed": false
   },
   "outputs": [],
   "source": [
    "for number in range(len(STRUC[0])):\n",
    "    for item in STRUC[0]:\n",
    "        if item == '':\n",
    "            STRUC[0].remove(item)\n",
    "print(STRUC[0])"
   ]
  },
  {
   "cell_type": "markdown",
   "metadata": {},
   "source": [
    "***"
   ]
  },
  {
   "cell_type": "markdown",
   "metadata": {},
   "source": [
    "#### Suggested Edit\n",
    "\n",
    "Thomas I think what is occuring is that since you are removing items from STRUC[0] there is a 'confusion' about the number of elements to iterate over and what they point to.\n",
    "You may want to try something like this."
   ]
  },
  {
   "cell_type": "markdown",
   "metadata": {},
   "source": [
    "I needed to create test_list as I didn't have the VESTA file."
   ]
  },
  {
   "cell_type": "code",
   "execution_count": null,
   "metadata": {
    "collapsed": true
   },
   "outputs": [],
   "source": [
    "test_list = ['','', '1', 'Zr', '', '', '', '', '', '', '', 'Zr1', '', '1.0000', '', '', '0.000000', '', '', '0.000000', '', '',\n",
    "             '0.066667', '', '', '', '1a', '', '', '', '', '', '', '1\\n']"
   ]
  },
  {
   "cell_type": "markdown",
   "metadata": {},
   "source": [
    "Lets create a new temp list and check to see if each element of test_list is white space. If it is we will not add it to temp_struc. However, if it isn't white space we will add it to temp_struc.\n",
    "At the end we will do some redefining to clean things up a bit."
   ]
  },
  {
   "cell_type": "code",
   "execution_count": null,
   "metadata": {
    "collapsed": false
   },
   "outputs": [],
   "source": [
    "temp_struc = []\n",
    "for item in test_list:\n",
    "    if not item == '':\n",
    "        temp_struc.append(item)\n",
    "test_list = temp_struc\n",
    "del temp_struc"
   ]
  },
  {
   "cell_type": "markdown",
   "metadata": {},
   "source": [
    "Lets look at test_list again and see if we have what we want."
   ]
  },
  {
   "cell_type": "code",
   "execution_count": null,
   "metadata": {
    "collapsed": false
   },
   "outputs": [],
   "source": [
    "test_list"
   ]
  },
  {
   "cell_type": "markdown",
   "metadata": {},
   "source": [
    "Looks like it has worked!"
   ]
  },
  {
   "cell_type": "markdown",
   "metadata": {},
   "source": [
    "***"
   ]
  },
  {
   "cell_type": "markdown",
   "metadata": {
    "collapsed": false
   },
   "source": [
    "Below, we convert all of the numbers in STRUC[0] into floats - the strings like \"Zr\" remain as strings. "
   ]
  },
  {
   "cell_type": "code",
   "execution_count": null,
   "metadata": {
    "collapsed": false
   },
   "outputs": [],
   "source": [
    "alphabet = ( \"B\", \"Zr\", \"Si\", \"1a\") #can be generalised further\n",
    "temp_list = []\n",
    "for item in STRUC[0]:\n",
    "    if not any(s in item for s in alphabet):\n",
    "        temp_list.append(float(item))\n",
    "    else:\n",
    "        temp_list.append(item)\n",
    "STRUC[0] = temp_list\n",
    "del temp_list\n",
    "print(STRUC[0])"
   ]
  },
  {
   "cell_type": "markdown",
   "metadata": {},
   "source": [
    "The code below converts elements 4, 5 & 6 in the list STRUC[0] into a numpy array."
   ]
  },
  {
   "cell_type": "code",
   "execution_count": null,
   "metadata": {
    "collapsed": false
   },
   "outputs": [],
   "source": [
    "\n",
    "STRUC[0].insert(4, np.array(STRUC[0][4:7]))\n",
    "del STRUC[0][5:8]\n",
    "print(STRUC[0])"
   ]
  },
  {
   "cell_type": "markdown",
   "metadata": {
    "collapsed": false
   },
   "source": [
    "Below I will add our CELLP to STRUC[0][4] and assess the result. CELLPL is a 3 element numpy array with only the unit cell length parameters. STRUC[0][4] is a numpy array of elements 4, 5 & 6 in STRUC[0]. "
   ]
  },
  {
   "cell_type": "code",
   "execution_count": null,
   "metadata": {
    "collapsed": false
   },
   "outputs": [],
   "source": [
    "test = STRUC[0][:]\n",
    "print(test)\n",
    "test[4] = test[4] + CELLPL\n",
    "print(test)\n",
    "print(STRUC[0])"
   ]
  },
  {
   "cell_type": "markdown",
   "metadata": {
    "collapsed": false
   },
   "source": [
    "Now, \"test\" should be our modified STRUC[0], moved along each axis by 1 cell parameter. Our next step will be to write a new file with the data from test, and check if it can be read in vesta."
   ]
  },
  {
   "cell_type": "code",
   "execution_count": null,
   "metadata": {
    "collapsed": false
   },
   "outputs": [],
   "source": [
    "test_1 = test[0:4]\n",
    "test_2 = test[5:]\n",
    "test_3 = test[4].tolist()\n",
    "test = test_1 + test_3 + test_2\n",
    "print(test)"
   ]
  },
  {
   "cell_type": "code",
   "execution_count": null,
   "metadata": {
    "collapsed": true
   },
   "outputs": [],
   "source": [
    "f = open(\"testfile.txt\", \"w\")\n",
    "f.write(\"#VESTA_FORMAT_VERSION 3.3.0\")\n",
    "f.write(\"CRYSTAL\")\n",
    "f.close()"
   ]
  },
  {
   "cell_type": "markdown",
   "metadata": {},
   "source": [
    "***"
   ]
  },
  {
   "cell_type": "markdown",
   "metadata": {},
   "source": [
    "### Try to keep the file tidy and get rid of redundant testing cells. "
   ]
  },
  {
   "cell_type": "code",
   "execution_count": null,
   "metadata": {
    "collapsed": false
   },
   "outputs": [],
   "source": []
  },
  {
   "cell_type": "code",
   "execution_count": null,
   "metadata": {
    "collapsed": false
   },
   "outputs": [],
   "source": [
    "a=1"
   ]
  },
  {
   "cell_type": "code",
   "execution_count": null,
   "metadata": {
    "collapsed": false
   },
   "outputs": [],
   "source": []
  },
  {
   "cell_type": "code",
   "execution_count": null,
   "metadata": {
    "collapsed": true
   },
   "outputs": [],
   "source": [
    "f.close()"
   ]
  },
  {
   "cell_type": "code",
   "execution_count": null,
   "metadata": {
    "collapsed": true
   },
   "outputs": [],
   "source": [
    "test1 = np.array([])"
   ]
  },
  {
   "cell_type": "code",
   "execution_count": null,
   "metadata": {
    "collapsed": true
   },
   "outputs": [],
   "source": []
  },
  {
   "cell_type": "code",
   "execution_count": null,
   "metadata": {
    "collapsed": true
   },
   "outputs": [],
   "source": []
  },
  {
   "cell_type": "code",
   "execution_count": null,
   "metadata": {
    "collapsed": true
   },
   "outputs": [],
   "source": []
  },
  {
   "cell_type": "code",
   "execution_count": null,
   "metadata": {
    "collapsed": false
   },
   "outputs": [],
   "source": [
    "a"
   ]
  },
  {
   "cell_type": "code",
   "execution_count": null,
   "metadata": {
    "collapsed": true
   },
   "outputs": [],
   "source": []
  }
 ],
 "metadata": {
  "anaconda-cloud": {},
  "kernelspec": {
   "display_name": "Python [default]",
   "language": "python",
   "name": "python3"
  },
  "language_info": {
   "codemirror_mode": {
    "name": "ipython",
    "version": 3
   },
   "file_extension": ".py",
   "mimetype": "text/x-python",
   "name": "python",
   "nbconvert_exporter": "python",
   "pygments_lexer": "ipython3",
   "version": "3.5.2"
  }
 },
 "nbformat": 4,
 "nbformat_minor": 0
}
